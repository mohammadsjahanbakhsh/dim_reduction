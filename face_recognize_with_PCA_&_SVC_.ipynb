{
  "nbformat": 4,
  "nbformat_minor": 0,
  "metadata": {
    "colab": {
      "private_outputs": true,
      "provenance": [],
      "authorship_tag": "ABX9TyP08DZ08kVliaqkOXYNP66k",
      "include_colab_link": true
    },
    "kernelspec": {
      "name": "python3",
      "display_name": "Python 3"
    },
    "language_info": {
      "name": "python"
    }
  },
  "cells": [
    {
      "cell_type": "markdown",
      "metadata": {
        "id": "view-in-github",
        "colab_type": "text"
      },
      "source": [
        "<a href=\"https://colab.research.google.com/github/mohammadsjahanbakhsh/dim_reduction/blob/main/face_recognize_with_PCA_%26_SVC_.ipynb\" target=\"_parent\"><img src=\"https://colab.research.google.com/assets/colab-badge.svg\" alt=\"Open In Colab\"/></a>"
      ]
    },
    {
      "cell_type": "code",
      "execution_count": null,
      "metadata": {
        "id": "Dz5pjZLrHpDx"
      },
      "outputs": [],
      "source": [
        "import matplotlib.pyplot as plt\n",
        "from time import time\n",
        "import seaborn as sns\n",
        "import numpy as np\n",
        "\n",
        "# Import scikit-learn library\n",
        "from sklearn.model_selection import train_test_split\n",
        "from sklearn.model_selection import GridSearchCV\n",
        "from sklearn.datasets import fetch_lfw_people\n",
        "from sklearn.metrics import classification_report\n",
        "from sklearn.metrics import confusion_matrix , ConfusionMatrixDisplay\n",
        "from sklearn.decomposition import PCA\n",
        "from sklearn.svm import SVC\n"
      ]
    },
    {
      "cell_type": "code",
      "source": [
        "lfw_people = fetch_lfw_people(min_faces_per_person = 70, resize = 0.4)"
      ],
      "metadata": {
        "id": "BqpjoREBH1fQ"
      },
      "execution_count": null,
      "outputs": []
    },
    {
      "cell_type": "code",
      "source": [
        "n_samples,h,w = lfw_people.images.shape"
      ],
      "metadata": {
        "id": "Cxgof2bZH7yg"
      },
      "execution_count": null,
      "outputs": []
    },
    {
      "cell_type": "code",
      "source": [
        "X = lfw_people.data\n",
        "X.shape"
      ],
      "metadata": {
        "id": "4aT8sJFNIJdf"
      },
      "execution_count": null,
      "outputs": []
    },
    {
      "cell_type": "code",
      "source": [
        "imgshape=lfw_people.images.shape\n",
        "## 1288 image 50*37"
      ],
      "metadata": {
        "id": "r2r8g50KIW2P"
      },
      "execution_count": null,
      "outputs": []
    },
    {
      "cell_type": "code",
      "source": [
        "y = lfw_people.target\n",
        "target_names = lfw_people.target_names"
      ],
      "metadata": {
        "id": "8HAv2TUTIcGU"
      },
      "execution_count": null,
      "outputs": []
    },
    {
      "cell_type": "code",
      "source": [
        "n_classes = target_names.shape[0]"
      ],
      "metadata": {
        "id": "qi7lbG7UIqqP"
      },
      "execution_count": null,
      "outputs": []
    },
    {
      "cell_type": "code",
      "source": [
        "y.shape"
      ],
      "metadata": {
        "id": "s7AM-uNJI0UP"
      },
      "execution_count": null,
      "outputs": []
    },
    {
      "cell_type": "code",
      "source": [
        "target_names[y[0]].split()[-1]"
      ],
      "metadata": {
        "id": "ECZwWWsrJLJ-"
      },
      "execution_count": null,
      "outputs": []
    },
    {
      "cell_type": "code",
      "source": [
        "target_names[y[0]]"
      ],
      "metadata": {
        "id": "yUefnuVWkyxq"
      },
      "execution_count": null,
      "outputs": []
    },
    {
      "cell_type": "code",
      "source": [
        "# Splitting the dataset\n",
        "X_train, X_test, y_train, y_test = train_test_split(\n",
        "    X, y, test_size = 0.2, random_state = 0,stratify=y)"
      ],
      "metadata": {
        "id": "jvaf9ZzwjZiN"
      },
      "execution_count": null,
      "outputs": []
    },
    {
      "cell_type": "code",
      "source": [
        "\n",
        "# Function to plot images in 3*4\n",
        "def plot_gallery(images, titles, h, w, n_row = 3, n_col = 5):\n",
        "    plt.figure(figsize =(1.8 * n_col, 2.4 * n_row))\n",
        "    plt.subplots_adjust(bottom = 0, left =.01, right =.99, top =.90, hspace =.35)\n",
        "    for i in range(n_row * n_col):\n",
        "        plt.subplot(n_row, n_col, i + 1)\n",
        "        plt.imshow(images[i].reshape((h, w)), cmap = plt.cm.gray)\n",
        "        plt.title(titles[i], size = 12)\n",
        "        plt.xticks(())\n",
        "        plt.yticks(())\n",
        "\n",
        "# Generate true labels above the images"
      ],
      "metadata": {
        "id": "maERWKdOhh-O"
      },
      "execution_count": null,
      "outputs": []
    },
    {
      "cell_type": "code",
      "source": [
        "\n",
        "def true_title(y,title,target_names, i):\n",
        "    # true_name = target_names[y[i]].split()[-1]\n",
        "    true_name = target_names[y[i]].rsplit(' ', 1)[-1]\n",
        "    return '%s %s'%(title,true_name)\n",
        "\n",
        "real_titles = [true_title(y_train,\"real name:\" , target_names, i)\n",
        "                     for i in range(y_train.shape[0])]\n",
        "plot_gallery(X_train, real_titles, h, w)"
      ],
      "metadata": {
        "id": "NfA8E9wAsS6j"
      },
      "execution_count": null,
      "outputs": []
    },
    {
      "cell_type": "code",
      "source": [],
      "metadata": {
        "id": "Pq0N1vPJmZib"
      },
      "execution_count": null,
      "outputs": []
    },
    {
      "cell_type": "code",
      "source": [
        "t = time()\n",
        "pca = PCA(n_components = 150 , svd_solver =\"randomized\", whiten=True)\n",
        "pca.fit(X_train)\n",
        "\n",
        "print(\"done in %0.3f\"%(time()-t))\n",
        "\n",
        "prinsipalfaces = pca.components_.reshape((150 , h , w))\n",
        "\n",
        "t = time()\n",
        "X_train_pca = pca.transform(X_train)\n",
        "X_test_pca = pca.transform(X_test)\n",
        "print(\"done in %0.3f\"%(time()-t))"
      ],
      "metadata": {
        "id": "mj1lOQ_wkMid"
      },
      "execution_count": null,
      "outputs": []
    },
    {
      "cell_type": "code",
      "source": [
        "\n",
        "n_row = 4\n",
        "n_col = 5\n",
        "title = [\"prinsipal Face: %s\"%i for i in range(n_row*n_col)]\n",
        "\n",
        "plot_gallery(prinsipalfaces, title, h,w)"
      ],
      "metadata": {
        "id": "5fEq8PwPrFDp"
      },
      "execution_count": null,
      "outputs": []
    },
    {
      "cell_type": "code",
      "source": [
        "# GridSearch algorithm\n",
        "\n",
        "t=time()\n",
        "param_grid = {'C': [1e3, 5e3, 1e4, 5e4, 1e5],\n",
        "              'gamma': [0.0001, 0.0005, 0.001, 0.005, 0.01, 0.1], }\n",
        "\n",
        "model = SVC(kernel ='rbf', class_weight ='balanced')\n",
        "clf = GridSearchCV(\n",
        "    model, param_grid ,cv=5)\n",
        "\n",
        "clf = clf.fit(X_train_pca, y_train)\n",
        "print(\"done in %0.3f\"%(time()-t))\n",
        "\n",
        "print(clf.best_estimator_)\n",
        "\n"
      ],
      "metadata": {
        "id": "tNnUrtCKr2SY"
      },
      "execution_count": null,
      "outputs": []
    },
    {
      "cell_type": "code",
      "source": [
        "clf.best_estimator_"
      ],
      "metadata": {
        "id": "bEV0un3ZvSjx"
      },
      "execution_count": null,
      "outputs": []
    },
    {
      "cell_type": "code",
      "source": [
        "names=[name.rsplit(\" \",1)[-1] for name in target_names]\n",
        "names"
      ],
      "metadata": {
        "id": "88JaFApzFiKP"
      },
      "execution_count": null,
      "outputs": []
    },
    {
      "cell_type": "code",
      "source": [
        "t = time()\n",
        "y_pred = clf.predict(X_test_pca)\n",
        "\n",
        "print(classification_report(y_test,y_pred,target_names = names))"
      ],
      "metadata": {
        "id": "WTUg5HexwhKu"
      },
      "execution_count": null,
      "outputs": []
    },
    {
      "cell_type": "code",
      "source": [],
      "metadata": {
        "id": "LyDcc18MIXG2"
      },
      "execution_count": null,
      "outputs": []
    },
    {
      "cell_type": "code",
      "source": [
        "cf_matrix = confusion_matrix(y_test,y_pred,labels = range(n_classes))\n",
        "ax=sns.heatmap(cf_matrix/np.sum(cf_matrix),\n",
        "            annot=True ,\n",
        "            fmt='.2%',\n",
        "            cmap='Blues' ,\n",
        "            xticklabels = names ,\n",
        "            yticklabels = names )\n",
        "\n",
        "plt.title(\"Confusion Matrix\",fontsize=20)\n",
        "plt.xlabel('Predicted label',fontsize=15)\n",
        "plt.ylabel('True label',fontsize=15)\n",
        "plt.show()\n",
        "# لیبل pred , ture برای محور افقی و عمودی"
      ],
      "metadata": {
        "id": "8tjXy-6mHpK5"
      },
      "execution_count": null,
      "outputs": []
    },
    {
      "cell_type": "code",
      "source": [
        "disp = ConfusionMatrixDisplay(confusion_matrix=cf_matrix,\n",
        "                           display_labels=names)\n",
        "disp.plot()\n",
        "plt.show()"
      ],
      "metadata": {
        "id": "48ADU55Ax7MI"
      },
      "execution_count": null,
      "outputs": []
    },
    {
      "cell_type": "code",
      "source": [],
      "metadata": {
        "id": "5khruGg3HDZc"
      },
      "execution_count": null,
      "outputs": []
    }
  ]
}