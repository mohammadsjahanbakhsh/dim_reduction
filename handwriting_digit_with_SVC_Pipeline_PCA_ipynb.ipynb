{
  "nbformat": 4,
  "nbformat_minor": 0,
  "metadata": {
    "colab": {
      "private_outputs": true,
      "provenance": [],
      "authorship_tag": "ABX9TyONim/y2WsyuCmGPboGPxfV",
      "include_colab_link": true
    },
    "kernelspec": {
      "name": "python3",
      "display_name": "Python 3"
    },
    "language_info": {
      "name": "python"
    }
  },
  "cells": [
    {
      "cell_type": "markdown",
      "metadata": {
        "id": "view-in-github",
        "colab_type": "text"
      },
      "source": [
        "<a href=\"https://colab.research.google.com/github/mohammadsjahanbakhsh/dim_reduction/blob/main/handwriting_digit_with_SVC_Pipeline_PCA_ipynb.ipynb\" target=\"_parent\"><img src=\"https://colab.research.google.com/assets/colab-badge.svg\" alt=\"Open In Colab\"/></a>"
      ]
    },
    {
      "cell_type": "code",
      "execution_count": null,
      "metadata": {
        "id": "3vA336mvUg2T"
      },
      "outputs": [],
      "source": [
        "import pandas as pd\n",
        "from sklearn.datasets import fetch_openml\n",
        "import matplotlib.pyplot as plt\n",
        "import numpy as np"
      ]
    },
    {
      "cell_type": "code",
      "source": [],
      "metadata": {
        "id": "0e73jsPPUqzI"
      },
      "execution_count": null,
      "outputs": []
    },
    {
      "cell_type": "code",
      "source": [
        "'''\n",
        "This dataset has 70,000 datapoints with 784 features .\n",
        " we will use a version from Open ML that has 784 pixels (28 x 28).\n",
        "The feature values range from 0 to 255 (which we interpret on a gray scale\n",
        "with 0 being white and 255 being black). The target values are the numbers 0-9.\n",
        "Note that the target values are stored as strings and not integers.\n",
        "'''\n",
        "\n",
        "X,y = fetch_openml(\"mnist_784\",version=1,return_X_y = True ,parser='auto')\n",
        "\n",
        "\n"
      ],
      "metadata": {
        "id": "VytzPGq8UwmF"
      },
      "execution_count": null,
      "outputs": []
    },
    {
      "cell_type": "code",
      "source": [
        "def convert_to_string(n):\n",
        "  nums={    '0':'zero',\n",
        "            '1':'one',\n",
        "            '2':'two',\n",
        "            '3':'three',\n",
        "            '4':'four',\n",
        "            '5':'five',\n",
        "            '6':'six',\n",
        "            '7':'seven',\n",
        "            '8':'eight',\n",
        "            '9':'nine'}\n",
        "\n",
        "  return nums[str(n)]"
      ],
      "metadata": {
        "id": "iCfka_7Gfd0F"
      },
      "execution_count": null,
      "outputs": []
    },
    {
      "cell_type": "markdown",
      "source": [
        "\n",
        "**plt.subplots_adjust()**\n",
        "\n",
        "\n",
        "\n",
        "left  = 0.125  # the left side of the subplots of the figure\n",
        "\n",
        "right = 0.9    # the right side of the subplots of the figure\n",
        "\n",
        "bottom = 0.1   # the bottom of the subplots of the figure\n",
        "\n",
        "top = 0.9      # the top of the subplots of the figure\n",
        "\n",
        "wspace = 0.2   # the amount of width reserved for blank space between subplots\n",
        "\n",
        "hspace = 0.2   # the amount of height reserved for white space between subplots\n",
        "\n",
        "\n"
      ],
      "metadata": {
        "id": "ym8kjITPhxuk"
      }
    },
    {
      "cell_type": "code",
      "source": [
        "def plot_gallery(numbers,y, n_row = 4, n_col = 4):\n",
        "\n",
        "    fig, ax = plt.subplots(n_row , n_col)\n",
        "    plt.subplots_adjust(bottom = 0, left =.01, right =.99, top =.90, hspace =.35,wspace=.2)\n",
        "    for i in range(n_row ):\n",
        "      for j in range(n_col):\n",
        "\n",
        "        ax[i,j].matshow(numbers[i+j,:].reshape(28,28) , cmap=plt.cm.gray)\n",
        "        ax[i,j].set_title(convert_to_string(y[i+j]))\n",
        "        ax[i,j].set_xticks(())\n",
        "        ax[i,j].set_yticks(())\n",
        "        # ax[i,j].title.set_visible(False)\n",
        "\n",
        "\n",
        "plot_gallery(X.values,y)"
      ],
      "metadata": {
        "id": "G06piiLXVBDo"
      },
      "execution_count": null,
      "outputs": []
    },
    {
      "cell_type": "code",
      "source": [
        "from sklearn.model_selection import train_test_split\n",
        "X5=X[y.astype(int) <= 5]\n",
        "y5=y[y.astype(int) <= 5]\n",
        "X_train, X_test, y_train, y_test = train_test_split(\n",
        "                              X, y, test_size=0.25, stratify=y ,\n",
        "                              shuffle=True,random_state=313\n",
        "                              )\n",
        "X5_train, X5_test, y5_train, y5_test = train_test_split(\n",
        "                            X5, y5, test_size=0.25, stratify=y5 ,\n",
        "                              shuffle=True,random_state=313\n",
        "                              )\n"
      ],
      "metadata": {
        "id": "w4TOyFe8XDvm"
      },
      "execution_count": null,
      "outputs": []
    },
    {
      "cell_type": "code",
      "source": [
        "from sklearn.svm import SVC\n",
        "from time import time\n",
        "from sklearn.decomposition import PCA\n",
        "from sklearn.pipeline import Pipeline\n",
        "from sklearn.preprocessing import StandardScaler\n",
        "from sklearn.metrics import classification_report\n",
        "\n",
        "svc = SVC(kernel ='rbf', class_weight ='balanced')\n",
        "\n",
        "pipe = Pipeline(\n",
        "    steps=[(\"scaler\", StandardScaler()),\n",
        "            (\"pca\", PCA(n_components=60)),\n",
        "            (\"svc\", SVC(kernel ='rbf', class_weight ='balanced'))])\n",
        "\n",
        "t = time()\n",
        "\n",
        "pipe.fit(X_train,y_train)\n",
        "print(\"fit time :%.3f\"%(time()-t))\n",
        "t=time()\n",
        "y_pred=pipe.predict(X_test)\n",
        "print(\"predict time :%.3f\"%(time()-t))\n",
        "\n"
      ],
      "metadata": {
        "id": "6loxL8P5mTL8"
      },
      "execution_count": null,
      "outputs": []
    },
    {
      "cell_type": "code",
      "source": [
        "print(classification_report(y_test, y_pred))"
      ],
      "metadata": {
        "id": "G7ThN5EppXss"
      },
      "execution_count": null,
      "outputs": []
    },
    {
      "cell_type": "code",
      "source": [
        "from sklearn.metrics import confusion_matrix , ConfusionMatrixDisplay"
      ],
      "metadata": {
        "id": "p7zet3o_nsTl"
      },
      "execution_count": null,
      "outputs": []
    },
    {
      "cell_type": "code",
      "source": [
        "import seaborn as sns\n",
        "def display_confusion_matrix_heatmap( cf_matrix ,list_class):\n",
        "  plt.figure(figsize = (8,8))\n",
        "\n",
        "  ax=sns.heatmap(cf_matrix/np.sum(cf_matrix),\n",
        "            annot=True ,\n",
        "            fmt='.2%',\n",
        "            cmap=sns.cubehelix_palette(as_cmap=True) ,\n",
        "            annot_kws={\"size\": 8},\n",
        "            xticklabels = range(10) ,\n",
        "            yticklabels = range(10) ,\n",
        "            vmin=0,vmax=0.01\n",
        "                 )\n",
        "\n",
        "  plt.title(\"Confusion Matrix\",fontsize=20)\n",
        "  plt.xlabel('Predicted label',fontsize=15)\n",
        "  plt.ylabel('True label',fontsize=15)\n",
        "\n",
        "  plt.show()\n",
        "list_class = range(y.nunique())\n",
        "cf_matrix = confusion_matrix(y_test.astype(int),y_pred.astype(int),labels = list_class)\n",
        "display_confusion_matrix_heatmap(cf_matrix , list_class )\n"
      ],
      "metadata": {
        "id": "Auetb4BKp7dk"
      },
      "execution_count": null,
      "outputs": []
    },
    {
      "cell_type": "code",
      "source": [
        "def display_confusion_matrix( cf_matrix ,list_class):\n",
        "  disp = ConfusionMatrixDisplay(confusion_matrix=cf_matrix,\n",
        "                           display_labels=list_class)\n",
        "  disp.plot()\n",
        "  plt.show()\n",
        "\n",
        "display_confusion_matrix( cf_matrix ,list_class)"
      ],
      "metadata": {
        "id": "jSagD7IdynDa"
      },
      "execution_count": null,
      "outputs": []
    },
    {
      "cell_type": "code",
      "source": [
        "from sklearn.pipeline import make_pipeline\n",
        "from sklearn.svm import LinearSVC\n",
        "\n",
        "pipe_pca_svm = make_pipeline(StandardScaler() , PCA(n_components=60) ,LinearSVC(max_iter=1000) )\n",
        "t=time()\n",
        "pipe_pca_svm.fit(X5_train,y5_train)\n",
        "print(\"fit time :%.3f\"%(time()-t))\n",
        "t=time()\n",
        "y5_pred=pipe_pca_svm.predict(X5_test)\n",
        "print(\"predict time :%.3f\"%(time()-t))\n",
        "print(classification_report(y5_test, y5_pred))"
      ],
      "metadata": {
        "id": "loOc4yMtsakD"
      },
      "execution_count": null,
      "outputs": []
    }
  ]
}